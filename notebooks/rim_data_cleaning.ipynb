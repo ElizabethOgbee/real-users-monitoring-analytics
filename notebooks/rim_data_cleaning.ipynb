{
 "cells": [
  {
   "cell_type": "code",
   "execution_count": 3,
   "id": "a73bf10c",
   "metadata": {},
   "outputs": [],
   "source": [
    "import pandas as pd"
   ]
  },
  {
   "cell_type": "code",
   "execution_count": 11,
   "id": "bfc23242",
   "metadata": {},
   "outputs": [
    {
     "data": {
      "text/html": [
       "<div>\n",
       "<style scoped>\n",
       "    .dataframe tbody tr th:only-of-type {\n",
       "        vertical-align: middle;\n",
       "    }\n",
       "\n",
       "    .dataframe tbody tr th {\n",
       "        vertical-align: top;\n",
       "    }\n",
       "\n",
       "    .dataframe thead th {\n",
       "        text-align: right;\n",
       "    }\n",
       "</style>\n",
       "<table border=\"1\" class=\"dataframe\">\n",
       "  <thead>\n",
       "    <tr style=\"text-align: right;\">\n",
       "      <th></th>\n",
       "      <th>user_id</th>\n",
       "      <th>session_id</th>\n",
       "      <th>country</th>\n",
       "      <th>user_action</th>\n",
       "      <th>timestamp</th>\n",
       "      <th>readable_timestamp</th>\n",
       "    </tr>\n",
       "  </thead>\n",
       "  <tbody>\n",
       "    <tr>\n",
       "      <th>0</th>\n",
       "      <td>9882</td>\n",
       "      <td>e2eb9504-13d9-4b85-9357-621647d1f3d6</td>\n",
       "      <td>Ghana</td>\n",
       "      <td>visit home</td>\n",
       "      <td>1759001430291</td>\n",
       "      <td>25-09-27 08:30:30 PM</td>\n",
       "    </tr>\n",
       "    <tr>\n",
       "      <th>1</th>\n",
       "      <td>1148</td>\n",
       "      <td>b0641a99-a0dd-46d6-b5cd-0071973e9934</td>\n",
       "      <td>Egypt</td>\n",
       "      <td>visit plans</td>\n",
       "      <td>1754855004291</td>\n",
       "      <td>25-08-10 08:43:24 PM</td>\n",
       "    </tr>\n",
       "    <tr>\n",
       "      <th>2</th>\n",
       "      <td>4926</td>\n",
       "      <td>5c46f3e8-9806-44fb-8854-5a7dfd64cf3d</td>\n",
       "      <td>Egypt</td>\n",
       "      <td>visit home</td>\n",
       "      <td>1748724497291</td>\n",
       "      <td>25-05-31 09:48:17 PM</td>\n",
       "    </tr>\n",
       "    <tr>\n",
       "      <th>3</th>\n",
       "      <td>3190</td>\n",
       "      <td>2c4a806d-7ec3-42f2-aee3-23e5658d5417</td>\n",
       "      <td>Egypt</td>\n",
       "      <td>visit home</td>\n",
       "      <td>1760032377291</td>\n",
       "      <td>25-10-09 06:52:57 PM</td>\n",
       "    </tr>\n",
       "    <tr>\n",
       "      <th>4</th>\n",
       "      <td>7498</td>\n",
       "      <td>f9008d79-8a7a-4118-aecf-14a64d348739</td>\n",
       "      <td>USA</td>\n",
       "      <td>visit contact</td>\n",
       "      <td>1760645214291</td>\n",
       "      <td>25-10-16 09:06:54 PM</td>\n",
       "    </tr>\n",
       "    <tr>\n",
       "      <th>5</th>\n",
       "      <td>9916</td>\n",
       "      <td>3b5cbde2-c499-432f-99ea-e17551965b9e</td>\n",
       "      <td>USA</td>\n",
       "      <td>visit home</td>\n",
       "      <td>1760637786291</td>\n",
       "      <td>25-10-16 07:03:06 PM</td>\n",
       "    </tr>\n",
       "    <tr>\n",
       "      <th>6</th>\n",
       "      <td>5109</td>\n",
       "      <td>9a7de588-9d33-419c-987d-e25e8503c240</td>\n",
       "      <td>Nigeria</td>\n",
       "      <td>visit plans</td>\n",
       "      <td>1756350982291</td>\n",
       "      <td>25-08-28 04:16:22 AM</td>\n",
       "    </tr>\n",
       "    <tr>\n",
       "      <th>7</th>\n",
       "      <td>4713</td>\n",
       "      <td>6bb53805-62c1-45d9-89f8-e62e4719f001</td>\n",
       "      <td>Ghana</td>\n",
       "      <td>visit trainers</td>\n",
       "      <td>1753994596291</td>\n",
       "      <td>25-07-31 09:43:16 PM</td>\n",
       "    </tr>\n",
       "    <tr>\n",
       "      <th>8</th>\n",
       "      <td>6746</td>\n",
       "      <td>229d9cf2-6458-45c6-8210-00e26e9852da</td>\n",
       "      <td>Ghana</td>\n",
       "      <td>join_plan</td>\n",
       "      <td>1758995551291</td>\n",
       "      <td>25-09-27 06:52:31 PM</td>\n",
       "    </tr>\n",
       "    <tr>\n",
       "      <th>9</th>\n",
       "      <td>5837</td>\n",
       "      <td>56145e8a-b942-4b87-92d8-652a9ef99a4e</td>\n",
       "      <td>South Africa</td>\n",
       "      <td>visit trainers</td>\n",
       "      <td>1755202487291</td>\n",
       "      <td>25-08-14 09:14:47 PM</td>\n",
       "    </tr>\n",
       "  </tbody>\n",
       "</table>\n",
       "</div>"
      ],
      "text/plain": [
       "   user_id                            session_id       country  \\\n",
       "0     9882  e2eb9504-13d9-4b85-9357-621647d1f3d6         Ghana   \n",
       "1     1148  b0641a99-a0dd-46d6-b5cd-0071973e9934         Egypt   \n",
       "2     4926  5c46f3e8-9806-44fb-8854-5a7dfd64cf3d         Egypt   \n",
       "3     3190  2c4a806d-7ec3-42f2-aee3-23e5658d5417         Egypt   \n",
       "4     7498  f9008d79-8a7a-4118-aecf-14a64d348739           USA   \n",
       "5     9916  3b5cbde2-c499-432f-99ea-e17551965b9e           USA   \n",
       "6     5109  9a7de588-9d33-419c-987d-e25e8503c240       Nigeria   \n",
       "7     4713  6bb53805-62c1-45d9-89f8-e62e4719f001         Ghana   \n",
       "8     6746  229d9cf2-6458-45c6-8210-00e26e9852da         Ghana   \n",
       "9     5837  56145e8a-b942-4b87-92d8-652a9ef99a4e  South Africa   \n",
       "\n",
       "      user_action      timestamp    readable_timestamp  \n",
       "0      visit home  1759001430291  25-09-27 08:30:30 PM  \n",
       "1     visit plans  1754855004291  25-08-10 08:43:24 PM  \n",
       "2      visit home  1748724497291  25-05-31 09:48:17 PM  \n",
       "3      visit home  1760032377291  25-10-09 06:52:57 PM  \n",
       "4   visit contact  1760645214291  25-10-16 09:06:54 PM  \n",
       "5      visit home  1760637786291  25-10-16 07:03:06 PM  \n",
       "6     visit plans  1756350982291  25-08-28 04:16:22 AM  \n",
       "7  visit trainers  1753994596291  25-07-31 09:43:16 PM  \n",
       "8       join_plan  1758995551291  25-09-27 06:52:31 PM  \n",
       "9  visit trainers  1755202487291  25-08-14 09:14:47 PM  "
      ]
     },
     "execution_count": 11,
     "metadata": {},
     "output_type": "execute_result"
    }
   ],
   "source": [
    "import csv\n",
    "\n",
    "# file_path = 'data/rum_generated.csv'\n",
    "df = pd.read_csv(\"../data/rum_generated.csv\")\n",
    "df.head(10)\n",
    "\n"
   ]
  },
  {
   "cell_type": "code",
   "execution_count": null,
   "id": "5107a50e",
   "metadata": {},
   "outputs": [
    {
     "name": "stdout",
     "output_type": "stream",
     "text": [
      "<class 'pandas.core.frame.DataFrame'>\n",
      "RangeIndex: 10000 entries, 0 to 9999\n",
      "Data columns (total 6 columns):\n",
      " #   Column              Non-Null Count  Dtype \n",
      "---  ------              --------------  ----- \n",
      " 0   user_id             10000 non-null  int64 \n",
      " 1   session_id          10000 non-null  object\n",
      " 2   country             10000 non-null  object\n",
      " 3   user_action         10000 non-null  object\n",
      " 4   timestamp           10000 non-null  int64 \n",
      " 5   readable_timestamp  10000 non-null  object\n",
      "dtypes: int64(2), object(4)\n",
      "memory usage: 468.9+ KB\n"
     ]
    },
    {
     "data": {
      "text/plain": [
       "(10000, 6)"
      ]
     },
     "execution_count": 12,
     "metadata": {},
     "output_type": "execute_result"
    }
   ],
   "source": [
    "#Inspect df\n",
    "df.info()\n",
    "df.shape"
   ]
  },
  {
   "cell_type": "code",
   "execution_count": 15,
   "id": "254a351c",
   "metadata": {},
   "outputs": [
    {
     "name": "stdout",
     "output_type": "stream",
     "text": [
      "user_id               0\n",
      "session_id            0\n",
      "country               0\n",
      "user_action           0\n",
      "timestamp             0\n",
      "readable_timestamp    0\n",
      "dtype: int64\n",
      "Duplicates: 0\n"
     ]
    }
   ],
   "source": [
    "#Checking for missing data or Duplicates\n",
    "\n",
    "#missing data\n",
    "print(df.isnull().sum())\n",
    "\n",
    "#duplicates\n",
    "print(f'Duplicates: {df.duplicated().sum()}')"
   ]
  },
  {
   "cell_type": "code",
   "execution_count": 16,
   "id": "22c91d7b",
   "metadata": {},
   "outputs": [
    {
     "name": "stdout",
     "output_type": "stream",
     "text": [
      "country\n",
      "Egypt           1730\n",
      "South Africa    1714\n",
      "Nigeria         1686\n",
      "UK              1676\n",
      "Ghana           1658\n",
      "USA             1536\n",
      "Name: count, dtype: int64\n",
      "user_action\n",
      "visit home        3396\n",
      "visit plans       2597\n",
      "visit trainers    1666\n",
      "visit contact     1348\n",
      "join_plan          762\n",
      "sent message       231\n",
      "Name: count, dtype: int64\n"
     ]
    }
   ],
   "source": [
    "print(df['country'].value_counts())\n",
    "print(df['user_action'].value_counts())\n"
   ]
  },
  {
   "cell_type": "code",
   "execution_count": 19,
   "id": "30774d58",
   "metadata": {},
   "outputs": [
    {
     "name": "stdout",
     "output_type": "stream",
     "text": [
      "<class 'pandas.core.frame.DataFrame'>\n",
      "RangeIndex: 10000 entries, 0 to 9999\n",
      "Data columns (total 6 columns):\n",
      " #   Column              Non-Null Count  Dtype         \n",
      "---  ------              --------------  -----         \n",
      " 0   user_id             10000 non-null  int64         \n",
      " 1   session_id          10000 non-null  object        \n",
      " 2   country             10000 non-null  object        \n",
      " 3   user_action         10000 non-null  object        \n",
      " 4   timestamp           10000 non-null  int64         \n",
      " 5   readable_timestamp  10000 non-null  datetime64[ns]\n",
      "dtypes: datetime64[ns](1), int64(2), object(3)\n",
      "memory usage: 468.9+ KB\n"
     ]
    }
   ],
   "source": [
    "#converting datetime\n",
    "df['readable_timestamp'] = pd.to_datetime(\n",
    "    df['readable_timestamp'],\n",
    "    format='%y-%m-%d %H:%M:%S',\n",
    "    errors='coerce'\n",
    ")\n",
    "\n",
    "df.info()"
   ]
  },
  {
   "cell_type": "code",
   "execution_count": null,
   "id": "b83f62d3",
   "metadata": {},
   "outputs": [],
   "source": [
    "#Export cleaned data\n",
    "cleaned_path = '../data/rum_generated_cleaned.csv'\n",
    "df.to_csv(cleaned_path, index=False)\n",
    "print('Cleaned data saved:', cleaned_path)"
   ]
  }
 ],
 "metadata": {
  "kernelspec": {
   "display_name": "Python 3",
   "language": "python",
   "name": "python3"
  },
  "language_info": {
   "codemirror_mode": {
    "name": "ipython",
    "version": 3
   },
   "file_extension": ".py",
   "mimetype": "text/x-python",
   "name": "python",
   "nbconvert_exporter": "python",
   "pygments_lexer": "ipython3",
   "version": "3.13.3"
  }
 },
 "nbformat": 4,
 "nbformat_minor": 5
}
